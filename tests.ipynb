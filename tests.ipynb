{
 "metadata": {
  "language_info": {
   "codemirror_mode": {
    "name": "ipython",
    "version": 3
   },
   "file_extension": ".py",
   "mimetype": "text/x-python",
   "name": "python",
   "nbconvert_exporter": "python",
   "pygments_lexer": "ipython3",
   "version": "3.9.5"
  },
  "orig_nbformat": 4,
  "kernelspec": {
   "name": "python3",
   "display_name": "Python 3.9.5 64-bit ('envdatascience': conda)"
  },
  "interpreter": {
   "hash": "31fbdb026a91ac5da8a51d61e43b011ce6057c0ee9d271d05ec906d9be192942"
  }
 },
 "nbformat": 4,
 "nbformat_minor": 2,
 "cells": [
  {
   "cell_type": "code",
   "execution_count": 10,
   "metadata": {},
   "outputs": [
    {
     "output_type": "stream",
     "name": "stdout",
     "text": [
      "João arrasou na pesquisa"
     ]
    }
   ],
   "source": [
    "def print_slow(str):\n",
    "    from time import sleep\n",
    "    from os import sys \n",
    "    for letter in str:\n",
    "        sys.stdout.write(letter)\n",
    "        sys.stdout.flush()\n",
    "        sleep(0.07)\n",
    "\n",
    "print_slow(\"João arrasou na pesquisa\")"
   ]
  },
  {
   "cell_type": "code",
   "execution_count": null,
   "metadata": {},
   "outputs": [],
   "source": []
  }
 ]
}